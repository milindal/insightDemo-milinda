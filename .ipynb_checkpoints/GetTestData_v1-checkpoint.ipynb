{
 "metadata": {
  "name": "",
  "signature": "sha256:1fd48c05f1f6e52c9f7036f74c1d1e4d871174102706dd99dd96a13fb2b11f9f"
 },
 "nbformat": 3,
 "nbformat_minor": 0,
 "worksheets": [
  {
   "cells": [
    {
     "cell_type": "code",
     "collapsed": false,
     "input": [
      "from urllib2 import Request, urlopen, URLError\n",
      "import numpy as np \n",
      "import json \n",
      "import pandas as pd \n",
      "import matplotlib.pyplot as plt \n",
      "import pdb\n",
      "import time\n",
      "import sys \n",
      "import pickle\n",
      "%matplotlib inline "
     ],
     "language": "python",
     "metadata": {},
     "outputs": [],
     "prompt_number": 15
    },
    {
     "cell_type": "code",
     "collapsed": false,
     "input": [
      "comm_api_key = 'a635c56edacc7190b18cacc2c6c6d158:11:61744518'\n",
      "article_search_api_key = 'e66bba01217ff9552fd21988363b7e9f:11:61744518'"
     ],
     "language": "python",
     "metadata": {},
     "outputs": [],
     "prompt_number": 2
    },
    {
     "cell_type": "code",
     "collapsed": false,
     "input": [
      "# key: url_string (STR), \n",
      "# val: comment_df: Pandas dataframe with the comment features\n",
      "#      headline: article title \n",
      "#      pub_data: string that gives the publication data\n",
      "#      abstract: text with the article's abstract\n",
      "#      key_words: dict with keywords, if they are major or not, rank and type of keyword\n",
      "database_dict = {} "
     ],
     "language": "python",
     "metadata": {},
     "outputs": [],
     "prompt_number": 3
    },
    {
     "cell_type": "code",
     "collapsed": false,
     "input": [
      "# Get the url list\n",
      "urls_list = [line.rstrip('\\n') for line in open('../insightDemo-milinda/data/URLStest.txt').readlines() if len(line) > 5] \n",
      "urls_list "
     ],
     "language": "python",
     "metadata": {},
     "outputs": [
      {
       "metadata": {},
       "output_type": "pyout",
       "prompt_number": 4,
       "text": [
        "['http://www.nytimes.com/2015/09/11/us/politics/iran-nuclear-deal-senate.html',\n",
        " 'http://www.nytimes.com/2015/09/12/health/blood-pressure-study.html',\n",
        " 'http://www.nytimes.com/2012/06/26/us/supreme-court-rejects-part-of-arizona-immigration-law.html',\n",
        " 'http://www.nytimes.com/2015/06/15/opinion/workers-betrayed-by-visa-loopholes.html',\n",
        " 'http://www.nytimes.com/2015/09/15/world/europe/europe-migrants-germany.html',\n",
        " 'http://www.nytimes.com/2015/07/22/opinion/the-campaign-of-deception-against-planned-parenthood.html',\n",
        " 'http://www.nytimes.com/2015/06/05/opinion/edward-snowden-the-world-says-no-to-surveillance.html',\n",
        " 'http://www.nytimes.com/2015/09/20/opinion/sunday/a-toxic-work-world.html',\n",
        " 'http://www.nytimes.com/2015/08/16/technology/inside-amazon-wrestling-big-ideas-in-a-bruising-workplace.html']"
       ]
      }
     ],
     "prompt_number": 4
    },
    {
     "cell_type": "code",
     "collapsed": false,
     "input": [
      "for url_string in urls_list[-4:]:  \n",
      "    print url_string"
     ],
     "language": "python",
     "metadata": {},
     "outputs": [
      {
       "output_type": "stream",
       "stream": "stdout",
       "text": [
        "http://www.nytimes.com/2015/07/22/opinion/the-campaign-of-deception-against-planned-parenthood.html\n",
        "http://www.nytimes.com/2015/06/05/opinion/edward-snowden-the-world-says-no-to-surveillance.html\n",
        "http://www.nytimes.com/2015/09/20/opinion/sunday/a-toxic-work-world.html\n",
        "http://www.nytimes.com/2015/08/16/technology/inside-amazon-wrestling-big-ideas-in-a-bruising-workplace.html\n"
       ]
      }
     ],
     "prompt_number": 5
    },
    {
     "cell_type": "code",
     "collapsed": false,
     "input": [
      "for url_string in urls_list[-4:]:  \n",
      "    print url_string\n",
      "    # Get the comments data for the url_string \n",
      "    base_request_string = 'http://api.nytimes.com/svc/community/v3/user-content/url.json?url=' + url_string + '&' + 'api-key=' + comm_api_key \n",
      "    comments_list = []\n",
      "    try:\n",
      "        print 'getting the comments data'\n",
      "        for offset in np.arange(0, 1000, 25): \n",
      "#             if offset%10 == 0 and offset > 0:\n",
      "#                 time.sleep(1)              \n",
      "            request_str = base_request_string + '&offset=' + str(offset)\n",
      "            request = Request(request_str)\n",
      "            temp_data_list = json.load(urlopen(request))['results']['comments']\n",
      "            if len(temp_data_list) == 0: \n",
      "                break\n",
      "            comments_list += temp_data_list\n",
      "    except URLError, e:\n",
      "        print 'No data received. Got an error code:', e\n",
      "        \n",
      "    comments_df = pd.DataFrame(comments_list)\n",
      "      \n",
      "    # Get the article data \n",
      "    article_request_string = 'http://api.nytimes.com/svc/search/v2/articlesearch.json?&fq=web_url:(\"'+ url_string + '\")' + '&' + 'api-key=' + article_search_api_key \n",
      "    print article_request_string\n",
      "    try:\n",
      "#         time.sleep(1)\n",
      "        print 'getting the artice data'\n",
      "        request = Request(article_request_string)\n",
      "        temp_data = json.load(urlopen(request))\n",
      "        print len(temp_data)\n",
      "    except URLError, e:\n",
      "        print 'No data received. Got an error code:', e\n",
      "      \n",
      "    # Populate the database \n",
      "    try: \n",
      "        database_dict[url_string] = {'comments_df': comments_df, \n",
      "                                 'title': temp_data['response']['docs'][0]['headline']['main'],\n",
      "                                 'abstract': temp_data['response']['docs'][0]['abstract'],\n",
      "                                 'snippet': temp_data['response']['docs'][0]['snippet']\n",
      "                                 'pub_date': temp_data['response']['docs'][0]['pub_date'], \n",
      "                                 'keyword_dict': temp_data['response']['docs'][0]['keywords'],\n",
      "                                 'image_part_url': temp_data['response']['docs'][0]['multimedia'][0]['url']\n",
      "                                 }\n",
      "    except:\n",
      "        pdb.set_trace()\n",
      "    \n",
      "    sys.stdout.flush()"
     ],
     "language": "python",
     "metadata": {},
     "outputs": [
      {
       "output_type": "stream",
       "stream": "stdout",
       "text": [
        "http://www.nytimes.com/2015/07/22/opinion/the-campaign-of-deception-against-planned-parenthood.html\n",
        "getting the comments data\n",
        "http://api.nytimes.com/svc/search/v2/articlesearch.json?&fq=web_url:(\"http://www.nytimes.com/2015/07/22/opinion/the-campaign-of-deception-against-planned-parenthood.html\")&api-key=e66bba01217ff9552fd21988363b7e9f:11:61744518"
       ]
      },
      {
       "output_type": "stream",
       "stream": "stdout",
       "text": [
        "\n",
        "getting the artice data\n",
        "3"
       ]
      },
      {
       "output_type": "stream",
       "stream": "stdout",
       "text": [
        "\n"
       ]
      },
      {
       "output_type": "stream",
       "stream": "stdout",
       "text": [
        "http://www.nytimes.com/2015/06/05/opinion/edward-snowden-the-world-says-no-to-surveillance.html\n",
        "getting the comments data\n",
        "http://api.nytimes.com/svc/search/v2/articlesearch.json?&fq=web_url:(\"http://www.nytimes.com/2015/06/05/opinion/edward-snowden-the-world-says-no-to-surveillance.html\")&api-key=e66bba01217ff9552fd21988363b7e9f:11:61744518"
       ]
      },
      {
       "output_type": "stream",
       "stream": "stdout",
       "text": [
        "\n",
        "getting the artice data\n",
        "3"
       ]
      },
      {
       "output_type": "stream",
       "stream": "stdout",
       "text": [
        "\n"
       ]
      },
      {
       "output_type": "stream",
       "stream": "stdout",
       "text": [
        "http://www.nytimes.com/2015/09/20/opinion/sunday/a-toxic-work-world.html\n",
        "getting the comments data\n",
        "http://api.nytimes.com/svc/search/v2/articlesearch.json?&fq=web_url:(\"http://www.nytimes.com/2015/09/20/opinion/sunday/a-toxic-work-world.html\")&api-key=e66bba01217ff9552fd21988363b7e9f:11:61744518"
       ]
      },
      {
       "output_type": "stream",
       "stream": "stdout",
       "text": [
        "\n",
        "getting the artice data\n",
        "3"
       ]
      },
      {
       "output_type": "stream",
       "stream": "stdout",
       "text": [
        "\n"
       ]
      },
      {
       "output_type": "stream",
       "stream": "stdout",
       "text": [
        "http://www.nytimes.com/2015/08/16/technology/inside-amazon-wrestling-big-ideas-in-a-bruising-workplace.html\n",
        "getting the comments data\n",
        "http://api.nytimes.com/svc/search/v2/articlesearch.json?&fq=web_url:(\"http://www.nytimes.com/2015/08/16/technology/inside-amazon-wrestling-big-ideas-in-a-bruising-workplace.html\")&api-key=e66bba01217ff9552fd21988363b7e9f:11:61744518"
       ]
      },
      {
       "output_type": "stream",
       "stream": "stdout",
       "text": [
        "\n",
        "getting the artice data\n",
        "3"
       ]
      },
      {
       "output_type": "stream",
       "stream": "stdout",
       "text": [
        "\n"
       ]
      }
     ],
     "prompt_number": 6
    },
    {
     "cell_type": "code",
     "collapsed": false,
     "input": [
      "for k, v in database_dict.iteritems(): \n",
      "    print k, v.keys(), v['comments_df'].shape"
     ],
     "language": "python",
     "metadata": {},
     "outputs": [
      {
       "output_type": "stream",
       "stream": "stdout",
       "text": [
        "http://www.nytimes.com/2015/06/05/opinion/edward-snowden-the-world-says-no-to-surveillance.html ['keyword_dict', 'comments_df', 'image_part_url', 'title', 'abstract', 'pub_date'] (783, 28)\n",
        "http://www.nytimes.com/2015/07/22/opinion/the-campaign-of-deception-against-planned-parenthood.html ['keyword_dict', 'comments_df', 'image_part_url', 'title', 'abstract', 'pub_date'] (505, 28)\n",
        "http://www.nytimes.com/2015/08/16/technology/inside-amazon-wrestling-big-ideas-in-a-bruising-workplace.html ['keyword_dict', 'comments_df', 'image_part_url', 'title', 'abstract', 'pub_date'] (1000, 28)\n",
        "http://www.nytimes.com/2015/09/20/opinion/sunday/a-toxic-work-world.html ['keyword_dict', 'comments_df', 'image_part_url', 'title', 'abstract', 'pub_date'] (482, 28)\n"
       ]
      }
     ],
     "prompt_number": 7
    },
    {
     "cell_type": "code",
     "collapsed": false,
     "input": [
      "print v['comments_df'].shape"
     ],
     "language": "python",
     "metadata": {},
     "outputs": [
      {
       "output_type": "stream",
       "stream": "stdout",
       "text": [
        "(482, 28)\n"
       ]
      }
     ],
     "prompt_number": 8
    },
    {
     "cell_type": "code",
     "collapsed": false,
     "input": [
      "prev_database_dict = pickle.load(open('data/database_dict.p', 'rb'))\n",
      "print len(prev_database_dict)\n",
      "database_dict.update(prev_database_dict) \n",
      "print len(database_dict)"
     ],
     "language": "python",
     "metadata": {},
     "outputs": [
      {
       "output_type": "stream",
       "stream": "stdout",
       "text": [
        "5\n",
        "9\n"
       ]
      }
     ],
     "prompt_number": 9
    },
    {
     "cell_type": "code",
     "collapsed": false,
     "input": [
      "pickle.dump(database_dict, open('../insightDemo-milinda/data/updated_database_dict.p', 'wb'))"
     ],
     "language": "python",
     "metadata": {},
     "outputs": [],
     "prompt_number": 10
    },
    {
     "cell_type": "code",
     "collapsed": false,
     "input": [
      "# Adding sentiment to the comments\n",
      "database_dict = pickle.load(open('data/updated_database_dict.p', 'rb'))"
     ],
     "language": "python",
     "metadata": {},
     "outputs": [],
     "prompt_number": 16
    },
    {
     "cell_type": "code",
     "collapsed": false,
     "input": [
      "import string \n",
      "import urllib\n",
      "for url_string in urls_list: \n",
      "    senti_pos = [] \n",
      "    senti_neg = [] \n",
      "    senti_neutral = [] \n",
      "    for comment_text in database_dict[url_string]['comments_df']['commentBody']:\n",
      "        filtered_comment = filter(lambda x: x in string.printable, comment_text)\n",
      "        data_urlencoded = urllib.urlencode({\"text\": filtered_comment}) \n",
      "        u = urllib.urlopen(\"http://text-processing.com/api/sentiment/\", data_urlencoded)\n",
      "        the_page = u.read()\n",
      "        senti_pos.append(json.loads(the_page)['probability']['pos'])\n",
      "        senti_neg.append(json.loads(the_page)['probability']['neg'])\n",
      "        senti_neutral.append(json.loads(the_page)['probability']['neutral'])\n",
      "    database_dict[url_string]['comments_df']['senti_pos'] = senti_pos\n",
      "    database_dict[url_string]['comments_df']['senti_neg'] = senti_neg\n",
      "    database_dict[url_string]['comments_df']['senti_neutral'] = senti_neutral"
     ],
     "language": "python",
     "metadata": {},
     "outputs": [],
     "prompt_number": 19
    },
    {
     "cell_type": "code",
     "collapsed": false,
     "input": [
      "pickle.dump(database_dict, open('../insightDemo-milinda/data/updated_database_dict.p', 'wb'))"
     ],
     "language": "python",
     "metadata": {},
     "outputs": [],
     "prompt_number": 20
    },
    {
     "cell_type": "code",
     "collapsed": false,
     "input": [
      "# Get the article data \n",
      "url_string = urls_list[-2]\n",
      "print url_string\n",
      "article_request_string = 'http://api.nytimes.com/svc/search/v2/articlesearch.json?&fq=web_url:(\"'+ url_string + '\")' + '&' + 'api-key=' + article_search_api_key \n",
      "print article_request_string\n",
      "try:\n",
      "#         time.sleep(1)\n",
      "    print 'getting the artice data'\n",
      "    request = Request(article_request_string)\n",
      "    temp_data = json.load(urlopen(request))\n",
      "    print len(temp_data)\n",
      "except URLError, e:\n",
      "    print 'No data received. Got an error code:', e"
     ],
     "language": "python",
     "metadata": {},
     "outputs": [
      {
       "output_type": "stream",
       "stream": "stdout",
       "text": [
        "http://www.nytimes.com/2015/09/20/opinion/sunday/a-toxic-work-world.html\n",
        "http://api.nytimes.com/svc/search/v2/articlesearch.json?&fq=web_url:(\"http://www.nytimes.com/2015/09/20/opinion/sunday/a-toxic-work-world.html\")&api-key=e66bba01217ff9552fd21988363b7e9f:11:61744518\n",
        "getting the artice data\n",
        "3"
       ]
      },
      {
       "output_type": "stream",
       "stream": "stdout",
       "text": [
        "\n"
       ]
      }
     ],
     "prompt_number": 21
    },
    {
     "cell_type": "code",
     "collapsed": false,
     "input": [
      "temp_data['response']['docs'][0]"
     ],
     "language": "python",
     "metadata": {},
     "outputs": [
      {
       "metadata": {},
       "output_type": "pyout",
       "prompt_number": 22,
       "text": [
        "{u'_id': u'55fc3f807988100e355b43a6',\n",
        " u'abstract': None,\n",
        " u'blog': [],\n",
        " u'byline': {u'contributor': u'',\n",
        "  u'original': u'By ANNE-MARIE SLAUGHTER',\n",
        "  u'person': [{u'firstname': u'Anne-marie',\n",
        "    u'lastname': u'SLAUGHTER',\n",
        "    u'organization': u'',\n",
        "    u'rank': 1,\n",
        "    u'role': u'reported'}]},\n",
        " u'document_type': u'article',\n",
        " u'headline': {u'content_kicker': u'Opinion',\n",
        "  u'kicker': u'Opinion',\n",
        "  u'main': u'A Toxic Work World',\n",
        "  u'print_headline': u'A Toxic Work World'},\n",
        " u'keywords': [{u'is_major': u'Y',\n",
        "   u'name': u'subject',\n",
        "   u'rank': u'1',\n",
        "   u'value': u'Work-Life Balance'},\n",
        "  {u'is_major': u'Y',\n",
        "   u'name': u'subject',\n",
        "   u'rank': u'2',\n",
        "   u'value': u'Women and Girls'},\n",
        "  {u'is_major': u'N',\n",
        "   u'name': u'subject',\n",
        "   u'rank': u'3',\n",
        "   u'value': u'Parenting'},\n",
        "  {u'is_major': u'N',\n",
        "   u'name': u'subject',\n",
        "   u'rank': u'4',\n",
        "   u'value': u'Paid Time Off'},\n",
        "  {u'is_major': u'N',\n",
        "   u'name': u'subject',\n",
        "   u'rank': u'5',\n",
        "   u'value': u'Family Leaves'},\n",
        "  {u'is_major': u'N',\n",
        "   u'name': u'glocations',\n",
        "   u'rank': u'6',\n",
        "   u'value': u'United States'}],\n",
        " u'lead_paragraph': u'Only the young and childless can keep up.',\n",
        " u'multimedia': [{u'height': 126,\n",
        "   u'legacy': {u'wide': u'images/2015/09/20/opinion/sunday/20slaughterWEB2/20slaughterWEB2-thumbWide.jpg',\n",
        "    u'wideheight': u'126',\n",
        "    u'widewidth': u'190'},\n",
        "   u'subtype': u'wide',\n",
        "   u'type': u'image',\n",
        "   u'url': u'images/2015/09/20/opinion/sunday/20slaughterWEB2/20slaughterWEB2-thumbWide.jpg',\n",
        "   u'width': 190},\n",
        "  {u'height': 431,\n",
        "   u'legacy': {u'xlarge': u'images/2015/09/20/opinion/sunday/20slaughterWEB2/20slaughterWEB2-articleLarge.jpg',\n",
        "    u'xlargeheight': u'431',\n",
        "    u'xlargewidth': u'600'},\n",
        "   u'subtype': u'xlarge',\n",
        "   u'type': u'image',\n",
        "   u'url': u'images/2015/09/20/opinion/sunday/20slaughterWEB2/20slaughterWEB2-articleLarge.jpg',\n",
        "   u'width': 600},\n",
        "  {u'height': 75,\n",
        "   u'legacy': {u'thumbnail': u'images/2015/09/20/opinion/sunday/20slaughterWEB2/20slaughterWEB2-thumbStandard.jpg',\n",
        "    u'thumbnailheight': u'75',\n",
        "    u'thumbnailwidth': u'75'},\n",
        "   u'subtype': u'thumbnail',\n",
        "   u'type': u'image',\n",
        "   u'url': u'images/2015/09/20/opinion/sunday/20slaughterWEB2/20slaughterWEB2-thumbStandard.jpg',\n",
        "   u'width': 75}],\n",
        " u'news_desk': u'OpEd',\n",
        " u'print_page': u'1',\n",
        " u'pub_date': u'2015-09-20T00:00:00Z',\n",
        " u'section_name': u'Opinion',\n",
        " u'snippet': u'Only the young and childless can keep up.',\n",
        " u'source': u'The New York Times',\n",
        " u'subsection_name': u'Sunday Review',\n",
        " u'type_of_material': u'Op-Ed',\n",
        " u'web_url': u'http://www.nytimes.com/2015/09/20/opinion/sunday/a-toxic-work-world.html',\n",
        " u'word_count': u'1927'}"
       ]
      }
     ],
     "prompt_number": 22
    },
    {
     "cell_type": "code",
     "collapsed": false,
     "input": [],
     "language": "python",
     "metadata": {},
     "outputs": []
    }
   ],
   "metadata": {}
  }
 ]
}