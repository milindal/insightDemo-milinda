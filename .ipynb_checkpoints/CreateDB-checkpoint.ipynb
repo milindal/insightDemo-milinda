{
 "metadata": {
  "name": "",
  "signature": "sha256:c008434c5a12b8d35f918e1ab695a5be437fcb448bef6599dad725adf1c7e6fa"
 },
 "nbformat": 3,
 "nbformat_minor": 0,
 "worksheets": [
  {
   "cells": [
    {
     "cell_type": "code",
     "collapsed": false,
     "input": [
      "import MySQLdb as db"
     ],
     "language": "python",
     "metadata": {},
     "outputs": [],
     "prompt_number": 1
    },
    {
     "cell_type": "code",
     "collapsed": false,
     "input": [
      "from urllib2 import Request, urlopen, URLError\n",
      "import numpy as np \n",
      "import json \n",
      "import pandas as pd \n",
      "import matplotlib.pyplot as plt \n",
      "%matplotlib inline "
     ],
     "language": "python",
     "metadata": {},
     "outputs": [],
     "prompt_number": 14
    },
    {
     "cell_type": "code",
     "collapsed": false,
     "input": [
      "# Connect to the empty database NYTcontentdb (Create it in mysql first)\n",
      "con = db.connect('localhost', 'milinda', 'anjali2014', 'NYTcontentdb') #host, user, password, #database"
     ],
     "language": "python",
     "metadata": {},
     "outputs": [],
     "prompt_number": 2
    },
    {
     "cell_type": "code",
     "collapsed": false,
     "input": [
      "# With the connector to the database, create tables named Articles and Comments\n",
      "with con:\n",
      "    cur = con.cursor()\n",
      "    cur.execute(\"DROP TABLE IF EXISTS Articles;\")\n",
      "    cur.execute(\"CREATE TABLE Articles(Id INT PRIMARY KEY NOT NULL AUTO_INCREMENT, Url VARCHAR(255), Title VARCHAR(1000), Publication_date DATE, Body TEXT);\")\n",
      "\n",
      "with con: \n",
      "    cur = con.cursor()\n",
      "    cur.execute('DROP TABLE IF EXISTS Comments;')\n",
      "    cur.execute('CREATE TABLE Comments(Id INT PRIMARY KEY NOT NULL AUTO_INCREMENT, Cbody TEXT, Cname VARCHAR(64), Clocation VARCHAR(64), Recommendations INT, Replies INT, Trusted INT, ArtileUrl VARCHAR(255));')\n",
      "    cur.execute(\"SHOW TABLES;\")      "
     ],
     "language": "python",
     "metadata": {},
     "outputs": [],
     "prompt_number": 3
    },
    {
     "cell_type": "code",
     "collapsed": false,
     "input": [
      "# Get the url list\n",
      "urls_list = [line.rstrip('\\n') for line in open('data/URLStest.txt').readlines() if len(line) > 5] \n",
      "urls_list "
     ],
     "language": "python",
     "metadata": {},
     "outputs": [
      {
       "metadata": {},
       "output_type": "pyout",
       "prompt_number": 13,
       "text": [
        "['http://www.nytimes.com/2015/09/12/health/blood-pressure-study.html?ref=health',\n",
        " 'http://www.nytimes.com/2012/06/26/us/supreme-court-rejects-part-of-arizona-immigration-law.html',\n",
        " 'http://www.nytimes.com/2015/06/15/opinion/workers-betrayed-by-visa-loopholes.html?ref=topics',\n",
        " 'http://www.nytimes.com/2015/09/15/world/europe/europe-migrants-germany.html?ref=topics']"
       ]
      }
     ],
     "prompt_number": 13
    },
    {
     "cell_type": "code",
     "collapsed": false,
     "input": [
      "url_string = urls_list[0]\n",
      "my_api_key = 'a635c56edacc7190b18cacc2c6c6d158:11:61744518'\n",
      "base_request_string = 'http://api.nytimes.com/svc/community/v3/user-content/url.json?url=' + url_string + '&' + 'api-key=' + my_api_key \n",
      "comments_list = []\n",
      "try:\n",
      "    for offset in np.arange(0, 1000, 25): \n",
      "        request_str = base_request_string + '&offset=' + str(offset)\n",
      "        request = Request(request_str)\n",
      "        temp_data_list = json.load(urlopen(request))['results']['comments']\n",
      "        print len(temp_data_list)\n",
      "        comments_list += temp_data_list\n",
      "except URLError, e:\n",
      "    print 'No data received. Got an error code:', e"
     ],
     "language": "python",
     "metadata": {},
     "outputs": []
    }
   ],
   "metadata": {}
  }
 ]
}