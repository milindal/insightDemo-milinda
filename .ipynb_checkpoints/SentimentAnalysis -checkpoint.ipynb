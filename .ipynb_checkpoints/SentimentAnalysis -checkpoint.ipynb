{
 "metadata": {
  "name": "",
  "signature": "sha256:f6696679a5df003d759f9ebe3b250903ab9a71f89b84e638e8394f36abc85392"
 },
 "nbformat": 3,
 "nbformat_minor": 0,
 "worksheets": [
  {
   "cells": [
    {
     "cell_type": "code",
     "collapsed": false,
     "input": [
      "import sys\n",
      "sys.path.append('alchemy-test/alchemyapi_python/')\n",
      "%run alchemy-test/alchemyapi_python/alchemyapi.py 5a10e9a628c8ab788669b3589330fe1bf08c289c"
     ],
     "language": "python",
     "metadata": {},
     "outputs": [
      {
       "output_type": "stream",
       "stream": "stdout",
       "text": [
        "Key: 5a10e9a628c8ab788669b3589330fe1bf08c289c was written to api_key.txt\n",
        "You are now ready to start using AlchemyAPI. For an example, run: python example.py\n"
       ]
      }
     ],
     "prompt_number": 6
    },
    {
     "cell_type": "code",
     "collapsed": false,
     "input": [
      "from alchemyapi import AlchemyAPI\n",
      "alchemyapi = AlchemyAPI()"
     ],
     "language": "python",
     "metadata": {},
     "outputs": [],
     "prompt_number": 7
    },
    {
     "cell_type": "code",
     "collapsed": false,
     "input": [
      "# Get the url list\n",
      "urls_list = [line.rstrip('\\n') for line in open('data/URLStest.txt').readlines() if len(line) > 5] \n",
      "urls_list "
     ],
     "language": "python",
     "metadata": {},
     "outputs": [
      {
       "metadata": {},
       "output_type": "pyout",
       "prompt_number": 8,
       "text": [
        "['http://www.nytimes.com/2015/09/11/us/politics/iran-nuclear-deal-senate.html',\n",
        " 'http://www.nytimes.com/2015/09/12/health/blood-pressure-study.html',\n",
        " 'http://www.nytimes.com/2012/06/26/us/supreme-court-rejects-part-of-arizona-immigration-law.html',\n",
        " 'http://www.nytimes.com/2015/06/15/opinion/workers-betrayed-by-visa-loopholes.html',\n",
        " 'http://www.nytimes.com/2015/09/15/world/europe/europe-migrants-germany.html']"
       ]
      }
     ],
     "prompt_number": 8
    },
    {
     "cell_type": "code",
     "collapsed": false,
     "input": [
      "import pickle\n",
      "database_dict = pickle.load(open('data/database_dict.p', 'rb'))"
     ],
     "language": "python",
     "metadata": {},
     "outputs": [],
     "prompt_number": 10
    },
    {
     "cell_type": "code",
     "collapsed": false,
     "input": [
      "for k, v in database_dict.iteritems(): \n",
      "    print v.keys()"
     ],
     "language": "python",
     "metadata": {},
     "outputs": [
      {
       "output_type": "stream",
       "stream": "stdout",
       "text": [
        "['keyword_dict', 'comments_df', 'image_part_url', 'title', 'abstract', 'pub_date']\n",
        "['keyword_dict', 'comments_df', 'image_part_url', 'title', 'abstract', 'pub_date']\n",
        "['keyword_dict', 'comments_df', 'image_part_url', 'title', 'abstract', 'pub_date']\n",
        "['keyword_dict', 'comments_df', 'image_part_url', 'title', 'abstract', 'pub_date']\n",
        "['keyword_dict', 'comments_df', 'image_part_url', 'title', 'abstract', 'pub_date']\n"
       ]
      }
     ],
     "prompt_number": 11
    },
    {
     "cell_type": "code",
     "collapsed": false,
     "input": [
      "for url_string in urls_list: \n",
      "    headline = database_dict[url_string]['title']\n",
      "    senti_pos = [] \n",
      "    senti_neg = [] \n",
      "    senti_neutral = [] \n",
      "    for comment_text in database_dict[url_string]['comments_df']['commentBody']:\n",
      "        filtered_comment = filter(lambda x: x in string.printable, word)\n",
      "        data_urlencoded = urllib.urlencode({\"text\": filtered_comment}) \n",
      "        u = urllib.urlopen(\"http://text-processing.com/api/sentiment/\", data_urlencoded)\n",
      "        the_page = u.read()\n",
      "        senti_pos.append(json.loads(the_page)['probability']['pos'])\n",
      "        senti_neg.append(json.loads(the_page)['probability']['neg'])\n",
      "        senti_neutral.append(json.loads(the_page)['probability']['neutral'])\n",
      "    database_dict[url_string]['comments_df']['senti_pos'] = senti_pos\n",
      "    database_dict[url_string]['comments_df']['senti_neg'] = senti_neg\n",
      "    database_dict[url_string]['comments_df']['senti_neutral'] = senti_neg"
     ],
     "language": "python",
     "metadata": {},
     "outputs": [
      {
       "ename": "UnicodeEncodeError",
       "evalue": "'ascii' codec can't encode character u'\\u2019' in position 206: ordinal not in range(128)",
       "output_type": "pyerr",
       "traceback": [
        "\u001b[0;31m---------------------------------------------------------------------------\u001b[0m\n\u001b[0;31mUnicodeEncodeError\u001b[0m                        Traceback (most recent call last)",
        "\u001b[0;32m<ipython-input-49-7226caaf16c3>\u001b[0m in \u001b[0;36m<module>\u001b[0;34m()\u001b[0m\n\u001b[1;32m      5\u001b[0m     \u001b[0msenti_neutral\u001b[0m \u001b[0;34m=\u001b[0m \u001b[0;34m[\u001b[0m\u001b[0;34m]\u001b[0m\u001b[0;34m\u001b[0m\u001b[0m\n\u001b[1;32m      6\u001b[0m     \u001b[0;32mfor\u001b[0m \u001b[0mcomment_text\u001b[0m \u001b[0;32min\u001b[0m \u001b[0mdatabase_dict\u001b[0m\u001b[0;34m[\u001b[0m\u001b[0murl_string\u001b[0m\u001b[0;34m]\u001b[0m\u001b[0;34m[\u001b[0m\u001b[0;34m'comments_df'\u001b[0m\u001b[0;34m]\u001b[0m\u001b[0;34m[\u001b[0m\u001b[0;34m'commentBody'\u001b[0m\u001b[0;34m]\u001b[0m\u001b[0;34m:\u001b[0m\u001b[0;34m\u001b[0m\u001b[0m\n\u001b[0;32m----> 7\u001b[0;31m         \u001b[0mdata_urlencoded\u001b[0m \u001b[0;34m=\u001b[0m \u001b[0murllib\u001b[0m\u001b[0;34m.\u001b[0m\u001b[0murlencode\u001b[0m\u001b[0;34m(\u001b[0m\u001b[0;34m{\u001b[0m\u001b[0;34m\"text\"\u001b[0m\u001b[0;34m:\u001b[0m \u001b[0mcomment_text\u001b[0m\u001b[0;34m}\u001b[0m\u001b[0;34m)\u001b[0m\u001b[0;34m\u001b[0m\u001b[0m\n\u001b[0m\u001b[1;32m      8\u001b[0m         \u001b[0mu\u001b[0m \u001b[0;34m=\u001b[0m \u001b[0murllib\u001b[0m\u001b[0;34m.\u001b[0m\u001b[0murlopen\u001b[0m\u001b[0;34m(\u001b[0m\u001b[0;34m\"http://text-processing.com/api/sentiment/\"\u001b[0m\u001b[0;34m,\u001b[0m \u001b[0mdata_urlencoded\u001b[0m\u001b[0;34m)\u001b[0m\u001b[0;34m\u001b[0m\u001b[0m\n\u001b[1;32m      9\u001b[0m         \u001b[0mthe_page\u001b[0m \u001b[0;34m=\u001b[0m \u001b[0mu\u001b[0m\u001b[0;34m.\u001b[0m\u001b[0mread\u001b[0m\u001b[0;34m(\u001b[0m\u001b[0;34m)\u001b[0m\u001b[0;34m\u001b[0m\u001b[0m\n",
        "\u001b[0;32m/Users/milindal/anaconda/lib/python2.7/urllib.pyc\u001b[0m in \u001b[0;36murlencode\u001b[0;34m(query, doseq)\u001b[0m\n\u001b[1;32m   1330\u001b[0m         \u001b[0;32mfor\u001b[0m \u001b[0mk\u001b[0m\u001b[0;34m,\u001b[0m \u001b[0mv\u001b[0m \u001b[0;32min\u001b[0m \u001b[0mquery\u001b[0m\u001b[0;34m:\u001b[0m\u001b[0;34m\u001b[0m\u001b[0m\n\u001b[1;32m   1331\u001b[0m             \u001b[0mk\u001b[0m \u001b[0;34m=\u001b[0m \u001b[0mquote_plus\u001b[0m\u001b[0;34m(\u001b[0m\u001b[0mstr\u001b[0m\u001b[0;34m(\u001b[0m\u001b[0mk\u001b[0m\u001b[0;34m)\u001b[0m\u001b[0;34m)\u001b[0m\u001b[0;34m\u001b[0m\u001b[0m\n\u001b[0;32m-> 1332\u001b[0;31m             \u001b[0mv\u001b[0m \u001b[0;34m=\u001b[0m \u001b[0mquote_plus\u001b[0m\u001b[0;34m(\u001b[0m\u001b[0mstr\u001b[0m\u001b[0;34m(\u001b[0m\u001b[0mv\u001b[0m\u001b[0;34m)\u001b[0m\u001b[0;34m)\u001b[0m\u001b[0;34m\u001b[0m\u001b[0m\n\u001b[0m\u001b[1;32m   1333\u001b[0m             \u001b[0ml\u001b[0m\u001b[0;34m.\u001b[0m\u001b[0mappend\u001b[0m\u001b[0;34m(\u001b[0m\u001b[0mk\u001b[0m \u001b[0;34m+\u001b[0m \u001b[0;34m'='\u001b[0m \u001b[0;34m+\u001b[0m \u001b[0mv\u001b[0m\u001b[0;34m)\u001b[0m\u001b[0;34m\u001b[0m\u001b[0m\n\u001b[1;32m   1334\u001b[0m     \u001b[0;32melse\u001b[0m\u001b[0;34m:\u001b[0m\u001b[0;34m\u001b[0m\u001b[0m\n",
        "\u001b[0;31mUnicodeEncodeError\u001b[0m: 'ascii' codec can't encode character u'\\u2019' in position 206: ordinal not in range(128)"
       ]
      }
     ],
     "prompt_number": 49
    },
    {
     "cell_type": "code",
     "collapsed": false,
     "input": [
      "import urllib\n",
      "url_string = urls_list[0]\n",
      "headline = database_dict[url_string]['title']\n",
      "comment0 = database_dict[url_string]['comments_df']['commentBody'][7]\n",
      "data = urllib.urlencode({\"text\": comment0}) \n",
      "u = urllib.urlopen(\"http://text-processing.com/api/sentiment/\", data)\n",
      "the_page = u.read()\n",
      "print headline\n",
      "print comment0\n",
      "print the_page\n",
      "print the_page.__class__.__name__\n",
      "print json.loads(the_page)['probability']['neg']"
     ],
     "language": "python",
     "metadata": {},
     "outputs": [
      {
       "output_type": "stream",
       "stream": "stdout",
       "text": [
        "Democrats Hand Victory to Obama on Iran Nuclear Deal\n",
        "So the GOP won't use the nuclear option on the nuclear treaty?\n",
        "{\"probability\": {\"neg\": 0.65443580560720505, \"neutral\": 0.55926360721765922, \"pos\": 0.3455641943927949}, \"label\": \"neutral\"}\n",
        "str\n",
        "0.654435805607\n"
       ]
      }
     ],
     "prompt_number": 48
    },
    {
     "cell_type": "code",
     "collapsed": false,
     "input": [
      "url_string = urls_list[0]\n",
      "headline = database_dict[url_string]['title']\n",
      "comment0 = database_dict[url_string]['comments_df']['commentBody'][0]\n",
      "response = alchemyapi.sentiment(\"text\", comment0)\n",
      "# response = alchemyapi.sentiment_targeted(\"text\", comment0, headline )"
     ],
     "language": "python",
     "metadata": {},
     "outputs": [],
     "prompt_number": 20
    },
    {
     "cell_type": "code",
     "collapsed": false,
     "input": [
      "print response\n",
      "print headline\n",
      "print comment0"
     ],
     "language": "python",
     "metadata": {},
     "outputs": [
      {
       "output_type": "stream",
       "stream": "stdout",
       "text": [
        "{u'status': u'OK', u'usage': u'By accessing AlchemyAPI or using information generated by AlchemyAPI, you are agreeing to be bound by the AlchemyAPI Terms of Use: http://www.alchemyapi.com/company/terms.html', u'totalTransactions': u'1', u'docSentiment': {u'score': u'-0.434617', u'type': u'negative'}, u'language': u'english'}\n",
        "Democrats Hand Victory to Obama on Iran Nuclear Deal\n",
        "I hope all America doesn't  suffer from the treachery and stupidity of these \"senators\" and other politicians.  But if it happens,  may the destruction fall on their  heads first.  It is only just.\n"
       ]
      }
     ],
     "prompt_number": 21
    },
    {
     "cell_type": "code",
     "collapsed": false,
     "input": [
      "print \"Sentiment: \", response[\"docSentiment\"][\"type\"]\n",
      "print response"
     ],
     "language": "python",
     "metadata": {},
     "outputs": [
      {
       "output_type": "stream",
       "stream": "stdout",
       "text": [
        " Sentiment:  neutral\n",
        "{u'status': u'OK', u'usage': u'By accessing AlchemyAPI or using information generated by AlchemyAPI, you are agreeing to be bound by the AlchemyAPI Terms of Use: http://www.alchemyapi.com/company/terms.html', u'totalTransactions': u'1', u'docSentiment': {u'type': u'neutral'}, u'language': u'english'}\n"
       ]
      }
     ],
     "prompt_number": 32
    },
    {
     "cell_type": "code",
     "collapsed": false,
     "input": [
      "for url_string in urls_list[0:1]: \n",
      "    print database_dict[url_string]['comments_df'].shape\n",
      "    print database_dict[url_string]['comments_df'].shape[0]\n",
      "    temp_col = [0]*database_dict[url_string]['comments_df'].shape[0]\n",
      "    database_dict[url_string]['comments_df']['temp'] = temp_col\n",
      "    database_dict[url_string]['comments_df'].drop('temp', axis=1, inplace=True)\n",
      "    print database_dict[url_string]['comments_df'].shape"
     ],
     "language": "python",
     "metadata": {},
     "outputs": [
      {
       "output_type": "stream",
       "stream": "stdout",
       "text": [
        "(660, 28)\n",
        "660\n",
        "(660, 28)\n"
       ]
      }
     ],
     "prompt_number": 27
    },
    {
     "cell_type": "code",
     "collapsed": false,
     "input": [],
     "language": "python",
     "metadata": {},
     "outputs": []
    }
   ],
   "metadata": {}
  }
 ]
}