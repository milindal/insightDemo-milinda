{
 "metadata": {
  "name": "",
  "signature": "sha256:c46bf982c94442700177eb1e35939996418102bbdeefbf6ac1a0f7b619591073"
 },
 "nbformat": 3,
 "nbformat_minor": 0,
 "worksheets": []
}