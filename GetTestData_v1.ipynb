{
 "metadata": {
  "name": "",
  "signature": "sha256:78ccf8e4cc4f67f309299a8cf5bee3746680bc829f40b86b35d89f3e075687b2"
 },
 "nbformat": 3,
 "nbformat_minor": 0,
 "worksheets": [
  {
   "cells": [
    {
     "cell_type": "code",
     "collapsed": false,
     "input": [
      "from urllib2 import Request, urlopen, URLError\n",
      "import numpy as np \n",
      "import json \n",
      "import pandas as pd \n",
      "import matplotlib.pyplot as plt \n",
      "import pdb\n",
      "import time\n",
      "import sys \n",
      "import pickle\n",
      "%matplotlib inline "
     ],
     "language": "python",
     "metadata": {},
     "outputs": [],
     "prompt_number": 29
    },
    {
     "cell_type": "code",
     "collapsed": false,
     "input": [
      "comm_api_key = 'a635c56edacc7190b18cacc2c6c6d158:11:61744518'\n",
      "article_search_api_key = 'e66bba01217ff9552fd21988363b7e9f:11:61744518'"
     ],
     "language": "python",
     "metadata": {},
     "outputs": [],
     "prompt_number": 2
    },
    {
     "cell_type": "code",
     "collapsed": false,
     "input": [
      "# key: url_string (STR), \n",
      "# val: comment_df: Pandas dataframe with the comment features\n",
      "#      headline: article title \n",
      "#      pub_data: string that gives the publication data\n",
      "#      abstract: text with the article's abstract\n",
      "#      key_words: dict with keywords, if they are major or not, rank and type of keyword\n",
      "database_dict = {} "
     ],
     "language": "python",
     "metadata": {},
     "outputs": [],
     "prompt_number": 16
    },
    {
     "cell_type": "code",
     "collapsed": false,
     "input": [
      "# Get the url list\n",
      "urls_list = [line.rstrip('\\n') for line in open('../insightDemo-milinda/data/URLStest.txt').readlines() if len(line) > 5] \n",
      "urls_list "
     ],
     "language": "python",
     "metadata": {},
     "outputs": [
      {
       "metadata": {},
       "output_type": "pyout",
       "prompt_number": 17,
       "text": [
        "['http://www.nytimes.com/2015/09/11/us/politics/iran-nuclear-deal-senate.html',\n",
        " 'http://www.nytimes.com/2015/09/12/health/blood-pressure-study.html',\n",
        " 'http://www.nytimes.com/2012/06/26/us/supreme-court-rejects-part-of-arizona-immigration-law.html',\n",
        " 'http://www.nytimes.com/2015/06/15/opinion/workers-betrayed-by-visa-loopholes.html',\n",
        " 'http://www.nytimes.com/2015/09/15/world/europe/europe-migrants-germany.html']"
       ]
      }
     ],
     "prompt_number": 17
    },
    {
     "cell_type": "code",
     "collapsed": false,
     "input": [
      "for url_string in urls_list:  \n",
      "    print url_string\n",
      "    # Get the comments data for the url_string \n",
      "    base_request_string = 'http://api.nytimes.com/svc/community/v3/user-content/url.json?url=' + url_string + '&' + 'api-key=' + comm_api_key \n",
      "    comments_list = []\n",
      "    try:\n",
      "        print 'getting the comments data'\n",
      "        for offset in np.arange(0, 1000, 25): \n",
      "#             if offset%10 == 0 and offset > 0:\n",
      "#                 time.sleep(1)              \n",
      "            request_str = base_request_string + '&offset=' + str(offset)\n",
      "            request = Request(request_str)\n",
      "            temp_data_list = json.load(urlopen(request))['results']['comments']\n",
      "            if len(temp_data_list) == 0: \n",
      "                break\n",
      "            comments_list += temp_data_list\n",
      "    except URLError, e:\n",
      "        print 'No data received. Got an error code:', e\n",
      "        \n",
      "    comments_df = pd.DataFrame(comments_list)\n",
      "      \n",
      "    # Get the article data \n",
      "    article_request_string = 'http://api.nytimes.com/svc/search/v2/articlesearch.json?&fq=web_url:(\"'+ url_string + '\")' + '&' + 'api-key=' + article_search_api_key \n",
      "    print article_request_string\n",
      "    try:\n",
      "#         time.sleep(1)\n",
      "        print 'getting the artice data'\n",
      "        request = Request(article_request_string)\n",
      "        temp_data = json.load(urlopen(request))\n",
      "        print len(temp_data)\n",
      "    except URLError, e:\n",
      "        print 'No data received. Got an error code:', e\n",
      "      \n",
      "    # Populate the database \n",
      "    try: \n",
      "        database_dict[url_string] = {'comments_df': comments_df, \n",
      "                                 'title': temp_data['response']['docs'][0]['headline']['main'],\n",
      "                                 'abstract': temp_data['response']['docs'][0]['abstract'], \n",
      "                                 'pub_date': temp_data['response']['docs'][0]['pub_date'], \n",
      "                                 'keyword_dict': temp_data['response']['docs'][0]['keywords'],\n",
      "                                 'image_part_url': temp_data['response']['docs'][0]['multimedia'][0]['url']\n",
      "                                 }\n",
      "    except:\n",
      "        pdb.set_trace()\n",
      "    \n",
      "    sys.stdout.flush()"
     ],
     "language": "python",
     "metadata": {},
     "outputs": [
      {
       "output_type": "stream",
       "stream": "stdout",
       "text": [
        "http://www.nytimes.com/2015/09/11/us/politics/iran-nuclear-deal-senate.html\n",
        "getting the comments data\n",
        "http://api.nytimes.com/svc/search/v2/articlesearch.json?&fq=web_url:(\"http://www.nytimes.com/2015/09/11/us/politics/iran-nuclear-deal-senate.html\")&api-key=e66bba01217ff9552fd21988363b7e9f:11:61744518"
       ]
      },
      {
       "output_type": "stream",
       "stream": "stdout",
       "text": [
        "\n",
        "getting the artice data\n",
        "3"
       ]
      },
      {
       "output_type": "stream",
       "stream": "stdout",
       "text": [
        "\n"
       ]
      },
      {
       "output_type": "stream",
       "stream": "stdout",
       "text": [
        "http://www.nytimes.com/2015/09/12/health/blood-pressure-study.html\n",
        "getting the comments data\n",
        "http://api.nytimes.com/svc/search/v2/articlesearch.json?&fq=web_url:(\"http://www.nytimes.com/2015/09/12/health/blood-pressure-study.html\")&api-key=e66bba01217ff9552fd21988363b7e9f:11:61744518"
       ]
      },
      {
       "output_type": "stream",
       "stream": "stdout",
       "text": [
        "\n",
        "getting the artice data\n",
        "3"
       ]
      },
      {
       "output_type": "stream",
       "stream": "stdout",
       "text": [
        "\n"
       ]
      },
      {
       "output_type": "stream",
       "stream": "stdout",
       "text": [
        "http://www.nytimes.com/2012/06/26/us/supreme-court-rejects-part-of-arizona-immigration-law.html\n",
        "getting the comments data\n",
        "http://api.nytimes.com/svc/search/v2/articlesearch.json?&fq=web_url:(\"http://www.nytimes.com/2012/06/26/us/supreme-court-rejects-part-of-arizona-immigration-law.html\")&api-key=e66bba01217ff9552fd21988363b7e9f:11:61744518"
       ]
      },
      {
       "output_type": "stream",
       "stream": "stdout",
       "text": [
        "\n",
        "getting the artice data\n",
        "3"
       ]
      },
      {
       "output_type": "stream",
       "stream": "stdout",
       "text": [
        "\n"
       ]
      },
      {
       "output_type": "stream",
       "stream": "stdout",
       "text": [
        "http://www.nytimes.com/2015/06/15/opinion/workers-betrayed-by-visa-loopholes.html\n",
        "getting the comments data\n",
        "http://api.nytimes.com/svc/search/v2/articlesearch.json?&fq=web_url:(\"http://www.nytimes.com/2015/06/15/opinion/workers-betrayed-by-visa-loopholes.html\")&api-key=e66bba01217ff9552fd21988363b7e9f:11:61744518"
       ]
      },
      {
       "output_type": "stream",
       "stream": "stdout",
       "text": [
        "\n",
        "getting the artice data\n",
        "3"
       ]
      },
      {
       "output_type": "stream",
       "stream": "stdout",
       "text": [
        "\n"
       ]
      },
      {
       "output_type": "stream",
       "stream": "stdout",
       "text": [
        "http://www.nytimes.com/2015/09/15/world/europe/europe-migrants-germany.html\n",
        "getting the comments data\n",
        "http://api.nytimes.com/svc/search/v2/articlesearch.json?&fq=web_url:(\"http://www.nytimes.com/2015/09/15/world/europe/europe-migrants-germany.html\")&api-key=e66bba01217ff9552fd21988363b7e9f:11:61744518"
       ]
      },
      {
       "output_type": "stream",
       "stream": "stdout",
       "text": [
        "\n",
        "getting the artice data\n",
        "3"
       ]
      },
      {
       "output_type": "stream",
       "stream": "stdout",
       "text": [
        "\n"
       ]
      }
     ],
     "prompt_number": 19
    },
    {
     "cell_type": "code",
     "collapsed": false,
     "input": [
      "for k, v in database_dict.iteritems(): \n",
      "    print k, v.keys(), v['comments_df'].shape"
     ],
     "language": "python",
     "metadata": {},
     "outputs": [
      {
       "output_type": "stream",
       "stream": "stdout",
       "text": [
        "http://www.nytimes.com/2012/06/26/us/supreme-court-rejects-part-of-arizona-immigration-law.html ['keyword_dict', 'comments_df', 'image_part_url', 'title', 'abstract', 'pub_date'] (407, 28)\n",
        "http://www.nytimes.com/2015/09/15/world/europe/europe-migrants-germany.html ['keyword_dict', 'comments_df', 'image_part_url', 'title', 'abstract', 'pub_date'] (220, 28)\n",
        "http://www.nytimes.com/2015/09/11/us/politics/iran-nuclear-deal-senate.html ['keyword_dict', 'comments_df', 'image_part_url', 'title', 'abstract', 'pub_date'] (660, 28)\n",
        "http://www.nytimes.com/2015/09/12/health/blood-pressure-study.html ['keyword_dict', 'comments_df', 'image_part_url', 'title', 'abstract', 'pub_date'] (387, 28)\n",
        "http://www.nytimes.com/2015/06/15/opinion/workers-betrayed-by-visa-loopholes.html ['keyword_dict', 'comments_df', 'image_part_url', 'title', 'abstract', 'pub_date'] (462, 28)\n"
       ]
      }
     ],
     "prompt_number": 26
    },
    {
     "cell_type": "code",
     "collapsed": false,
     "input": [
      "print v['comments_df'].shape"
     ],
     "language": "python",
     "metadata": {},
     "outputs": [
      {
       "output_type": "stream",
       "stream": "stdout",
       "text": [
        "(462, 28)\n"
       ]
      }
     ],
     "prompt_number": 25
    },
    {
     "cell_type": "code",
     "collapsed": false,
     "input": [
      "pickle.dump(database_dict, open('../insightDemo-milinda/data/database_dict.p', 'wb'))"
     ],
     "language": "python",
     "metadata": {},
     "outputs": [],
     "prompt_number": 30
    },
    {
     "cell_type": "code",
     "collapsed": false,
     "input": [],
     "language": "python",
     "metadata": {},
     "outputs": []
    }
   ],
   "metadata": {}
  }
 ]
}