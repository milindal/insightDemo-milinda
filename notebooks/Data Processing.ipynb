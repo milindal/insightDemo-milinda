{
 "metadata": {
  "name": "",
  "signature": "sha256:f3bd69a0e209bb65e06e1a5b2fbebda7d80e994d753f7d0c73ed6366f63db548"
 },
 "nbformat": 3,
 "nbformat_minor": 0,
 "worksheets": [
  {
   "cells": [
    {
     "cell_type": "markdown",
     "metadata": {},
     "source": [
      "### Data Processing"
     ]
    },
    {
     "cell_type": "code",
     "collapsed": false,
     "input": [
      "import logging\n",
      "logging.basicConfig(format='%(asctime)s : %(levelname)s : %(message)s', level=logging.INFO)"
     ],
     "language": "python",
     "metadata": {},
     "outputs": []
    },
    {
     "cell_type": "code",
     "collapsed": false,
     "input": [
      "from urllib2 import Request, urlopen, URLError\n",
      "import numpy as np \n",
      "import json \n",
      "import pandas as pd \n",
      "import matplotlib.pyplot as plt \n",
      "import gensim as gs\n",
      "import nltk\n",
      "from sklearn.cluster import KMeans\n",
      "import pickle\n",
      "import string \n",
      "import re\n",
      "%matplotlib inline "
     ],
     "language": "python",
     "metadata": {},
     "outputs": []
    },
    {
     "cell_type": "code",
     "collapsed": false,
     "input": [
      "import sys \n",
      "sys.path.insert(0, '/Users/milindal/Dropbox/Insight/insightDemo-milinda/alchemy-test/alchemyapi_python/')\n",
      "from alchemyapi import AlchemyAPI\n",
      "alchemyapi = AlchemyAPI()"
     ],
     "language": "python",
     "metadata": {},
     "outputs": [],
     "prompt_number": 4
    },
    {
     "cell_type": "code",
     "collapsed": false,
     "input": [
      "# helper functions to clean the data\n",
      "def striphtml(data):\n",
      "    p = re.compile(r'<.*?>')\n",
      "    return p.sub('', data)"
     ],
     "language": "python",
     "metadata": {},
     "outputs": [],
     "prompt_number": 5
    },
    {
     "cell_type": "code",
     "collapsed": false,
     "input": [
      "def getKeywords(comment_text):\n",
      "\tresponse = alchemyapi.keywords('text', comment_text) #, {'sentiment': 1})\n",
      "\tkw = []\n",
      "\tif response['status'] == 'OK':\n",
      "\t\t#print('## Response Object ##')\n",
      "\t\t#print(json.dumps(response', indent=4))\n",
      "\t\ttry:\n",
      "\t\t\t# if response[\"keywords\"]:\n",
      "\t\t\tfor keyword in response['keywords']:\n",
      "\t\t\t\t#print(keyword['text'].encode('utf-8')', keyword['relevance'])\n",
      "\t\t\t\ts = filter(lambda x: not x.isdigit(), keyword['text'].encode('utf-8').lower())\n",
      "\t\t\t\tfor c in string.punctuation:\n",
      "\t\t\t\t\ts= s.replace(c,\"\")\n",
      "\t\t\t\tif s:\n",
      "\t\t\t\t\tkw.append(s)\n",
      "\t\t\t\tif len(kw) == 10:\n",
      "\t\t\t\t\treturn kw\n",
      "\t\texcept KeyError:\n",
      "\t\t\tpass\n",
      "\telse:\n",
      "\t\tprint('Error in keyword extaction call: ', response['statusInfo'])\n",
      "\t\tif response['statusInfo'] == 'daily-transaction-limit-exceeded':\n",
      "\t\t\treturn ['limit-exceeded']\n",
      "\t\treturn ['alchemyAPI-error']\n",
      "\n",
      "\treturn kw[:10]"
     ],
     "language": "python",
     "metadata": {},
     "outputs": [],
     "prompt_number": 6
    },
    {
     "cell_type": "code",
     "collapsed": false,
     "input": [
      "from nltk.corpus import stopwords\n",
      "stop_words = set(stopwords.words('english')).union(set(['``', \"''\", '.', ',', '!', ':', '[', ']', '...', \"\\'\\'\" , '']))\n",
      "\n",
      "# Stemming words (or not?)\n",
      "from nltk.stem import PorterStemmer\n",
      "ps = PorterStemmer()"
     ],
     "language": "python",
     "metadata": {},
     "outputs": [],
     "prompt_number": 7
    },
    {
     "cell_type": "code",
     "collapsed": false,
     "input": [
      "database_dict = pickle.load(open('data/updated_database_dict.p', 'rb'))"
     ],
     "language": "python",
     "metadata": {},
     "outputs": [],
     "prompt_number": 8
    },
    {
     "cell_type": "code",
     "collapsed": false,
     "input": [
      "def ProcessComments(url_string): \n",
      "\n",
      "    # Get the three most diverse trusted comments assosciated with the url string\n",
      "    comments_df = database_dict[url_string]['comments_df']\n",
      "    comment_bodies = comments_df['commentBody']\n",
      "\n",
      "    # round 1: tokenizing, stemming, removing html tags and stop words\n",
      "    comment_texts = [[ps.stem(filter(lambda x: x in string.printable, word).lower()) for word in nltk.word_tokenize(striphtml(comment)) \n",
      "                  if word not in stop_words] for comment in comment_bodies]\n",
      "#     print len(comment_texts)\n",
      "\n",
      "    # round 2: filtering, remove words from comments that are too short or which are not alphabets\n",
      "    comment_texts = [ [word for word in comment if (len(word) > 2 and not word.isdigit())] for comment in comment_texts]\n",
      "#     print comment_texts[0:5]\n",
      "\n",
      "    # create a dictionary for the words that appear in the comments \n",
      "    dictionary = gs.corpora.Dictionary(comment_texts)\n",
      "\n",
      "    # Bag of words representation for the comments \n",
      "    comment_corpus = [dictionary.doc2bow(text) for text in comment_texts]\n",
      "\n",
      "    # Train tf-idf model on the comment_corpus\n",
      "    tfidf = gs.models.TfidfModel(comment_corpus)\n",
      "    corpus_tfidf = tfidf[comment_corpus]\n",
      "\n",
      "    # initialize an LSI transformation\n",
      "    lsi = gs.models.LsiModel(corpus_tfidf, id2word=dictionary, num_topics=5) \n",
      "    corpus_lsi = lsi[corpus_tfidf] # create a double wrapper over the original corpus: bow->tfidf->fold-in-lsi\n",
      "#     lsi.print_topics(5)\n",
      "\n",
      "    # Create the coordinates for the corpus to send into the Kmeans clustering algorithm\n",
      "    comments_coords_lsi_ND = [] \n",
      "    N_dimensions = 2\n",
      "    for item in corpus_lsi: \n",
      "        coord_temp = [0]*N_dimensions\n",
      "        for val_tuple in item:\n",
      "            if val_tuple[0] < N_dimensions: \n",
      "                coord_temp[val_tuple[0]] = val_tuple[1]\n",
      "        comments_coords_lsi_ND.append(coord_temp)\n",
      "\n",
      "    ## Clustering \n",
      "    k_fixed = 3\n",
      "    kmeans = KMeans(k_fixed).fit(np.array(comments_coords_lsi_ND)[:, 0:2])\n",
      "\n",
      "    # Calculate the distances \n",
      "    dist_from_centroid = [ np.sqrt(np.sum((np.array(comments_coords_lsi_ND)[i,0:2] - kmeans.cluster_centers_[lab])**2)) for i, lab in \n",
      "       enumerate(kmeans.labels_) ]\n",
      "\n",
      "    # Get the three closest comments \n",
      "    closest_trusted = {}\n",
      "    for lab in range(3):\n",
      "#         print 'cluster: ', lab\n",
      "        indices = [i for i, x in enumerate(kmeans.labels_) if x == lab]\n",
      "\n",
      "        # Get the comment that is closest to the centroid\n",
      "        min_dist = 1000 \n",
      "        closest_idx = -1\n",
      "        for i in indices: \n",
      "           if dist_from_centroid[i] < min_dist: \n",
      "                min_dist = dist_from_centroid[i]\n",
      "                closest_idx = i\n",
      "\n",
      "        # Get the trusted comment that is closest to the centroid\n",
      "        closest_trusted_idx = -2\n",
      "        min_dist= 1000\n",
      "        for i in indices: \n",
      "            if comments_df.loc[i, 'trusted'] == 1: \n",
      "                if dist_from_centroid[i] < min_dist: \n",
      "                    min_dist = dist_from_centroid[i]\n",
      "                    closest_trusted_idx = i\n",
      "                    \n",
      "        # closest trusted or closest \n",
      "        if closest_trusted_idx != -2: \n",
      "            closest_trusted[lab] = comments_df.loc[closest_trusted_idx, 'commentBody']\n",
      "        else: \n",
      "            closest_trusted[lab] = comments_df.loc[closest_idx, 'commentBody']\n",
      "        \n",
      "    return closest_trusted\n",
      "    \n",
      "#     print 'dist[closest_trusted_idx]: ', dist[closest_trusted_idx]        \n",
      "#     print 'dist[closest_idx]: ', dist[closest_idx]\n",
      "#     print 'closest_trusted_comment:'\n",
      "#     print comments_df.loc[closest_trusted_idx, 'commentBody']\n",
      "#     print 'closest_comment:'\n",
      "#     print comments_df.loc[closest_idx, 'commentBody']"
     ],
     "language": "python",
     "metadata": {},
     "outputs": [],
     "prompt_number": 9
    },
    {
     "cell_type": "code",
     "collapsed": false,
     "input": [
      "urls_list = [line.rstrip('\\n') for line in open('data/URLStest.txt').readlines() if len(line) > 5] \n",
      "urls_list "
     ],
     "language": "python",
     "metadata": {},
     "outputs": [
      {
       "metadata": {},
       "output_type": "pyout",
       "prompt_number": 10,
       "text": [
        "['http://www.nytimes.com/2015/09/11/us/politics/iran-nuclear-deal-senate.html',\n",
        " 'http://www.nytimes.com/2015/09/12/health/blood-pressure-study.html',\n",
        " 'http://www.nytimes.com/2012/06/26/us/supreme-court-rejects-part-of-arizona-immigration-law.html',\n",
        " 'http://www.nytimes.com/2015/06/15/opinion/workers-betrayed-by-visa-loopholes.html',\n",
        " 'http://www.nytimes.com/2015/09/15/world/europe/europe-migrants-germany.html',\n",
        " 'http://www.nytimes.com/2015/07/22/opinion/the-campaign-of-deception-against-planned-parenthood.html',\n",
        " 'http://www.nytimes.com/2015/06/05/opinion/edward-snowden-the-world-says-no-to-surveillance.html',\n",
        " 'http://www.nytimes.com/2015/09/20/opinion/sunday/a-toxic-work-world.html',\n",
        " 'http://www.nytimes.com/2015/08/16/technology/inside-amazon-wrestling-big-ideas-in-a-bruising-workplace.html']"
       ]
      }
     ],
     "prompt_number": 10
    },
    {
     "cell_type": "code",
     "collapsed": false,
     "input": [
      "print database_dict.keys()"
     ],
     "language": "python",
     "metadata": {},
     "outputs": [
      {
       "output_type": "stream",
       "stream": "stdout",
       "text": [
        "['http://www.nytimes.com/2012/06/26/us/supreme-court-rejects-part-of-arizona-immigration-law.html', 'http://www.nytimes.com/2015/09/15/world/europe/europe-migrants-germany.html', 'http://www.nytimes.com/2015/09/12/health/blood-pressure-study.html', 'http://www.nytimes.com/2015/09/11/us/politics/iran-nuclear-deal-senate.html', 'http://www.nytimes.com/2015/08/16/technology/inside-amazon-wrestling-big-ideas-in-a-bruising-workplace.html', 'http://www.nytimes.com/2015/06/05/opinion/edward-snowden-the-world-says-no-to-surveillance.html', 'http://www.nytimes.com/2015/06/15/opinion/workers-betrayed-by-visa-loopholes.html', 'http://www.nytimes.com/2015/07/22/opinion/the-campaign-of-deception-against-planned-parenthood.html', 'http://www.nytimes.com/2015/09/20/opinion/sunday/a-toxic-work-world.html']\n"
       ]
      }
     ],
     "prompt_number": 11
    },
    {
     "cell_type": "code",
     "collapsed": false,
     "input": [
      "SOME_FIXED_SEED = 13\n",
      "np.random.seed(SOME_FIXED_SEED)\n",
      "for url_string in urls_list[-2:-1]: \n",
      "    print url_string\n",
      "    closest_trusted_comments = ProcessComments(url_string)\n",
      "    for key, val in closest_trusted_comments.iteritems(): \n",
      "        print 'cluster: ', key\n",
      "        print 'Keywords:', getKeywords(val)\n",
      "        print val\n",
      "#     print closest_trusted_comments.values()"
     ],
     "language": "python",
     "metadata": {},
     "outputs": [
      {
       "output_type": "stream",
       "stream": "stdout",
       "text": [
        "http://www.nytimes.com/2015/09/20/opinion/sunday/a-toxic-work-world.html\n",
        "cluster: "
       ]
      },
      {
       "output_type": "stream",
       "stream": "stdout",
       "text": [
        " 0\n",
        "Keywords: "
       ]
      },
      {
       "output_type": "stream",
       "stream": "stdout",
       "text": [
        "['child care', 'bleak daily storage', 'pat buchanan', 'soviet idea', 'sorts', 'sixties', 'mobs', 'workplace', 'attacks', 'interview']\n",
        "I once listened to an interview with Pat Buchanan where he talked about a movement to supply more child care as women were beginning to enter the workplace back in the sixties . He was pleased to report that he was instrumental in destroying the idea by portraying child care as a Soviet idea that leads to depressing mobs of children kept  in bleak daily storage of sorts. Until the idea of child care comes back and survives these sorts of attacks, little will change.\n",
        "cluster:  1\n",
        "Keywords: "
       ]
      },
      {
       "output_type": "stream",
       "stream": "stdout",
       "text": [
        "['life satisfaction', 'natural world', 'individualism', 'endpoint', 'happiness', 'capitalism', 'socialism', 'thing', 'wealth', 'path']\n",
        "We value only Capital and individualism.  Health, family, children, happiness, life satisfaction, all are socialist anti-American ideas.  The only, only, only path to a working society and surviving natural world is socialism.  Capitalism does one thing very well: increase wealth for some, even for many, via efforts to expand endlessly.  We are at its endpoint.  \n",
        "cluster:  2\n",
        "Keywords: "
       ]
      },
      {
       "output_type": "stream",
       "stream": "stdout",
       "text": [
        "['business hire people', 'ear infection', 'elderly parent', 'home responsibilities', 'work', 'store owner', 'jobs', 'value', 'employee', 'absences']\n",
        " \"Not showing up for work because a child has an ear infection, schools close for a snow day, or an elderly parent must go to the doctor puts their jobs at risk, and losing their jobs\".....Perhaps you don't understand the bottom line. Business hire people because they need people to do the work. They pay people precisely because they show up at work. Employers have a choice as to whether and how often they can afford to allow the people they are paying not to show up at work. If the value of the employee is so high the employer cannot afford to lose them, they will gladly tolerate absences. If the value of the employee is low such that they can easily be replaced by somebody who will show up everyday, then that is what they must do. Just imagine if you run a store and hire (like in pay them money) someone as clerk and they are frequently absent because of home responsibilities. If you are the store owner what are you supposed to do? Many jobs are not, and cannot be, flexible. Period.\n"
       ]
      }
     ],
     "prompt_number": 12
    },
    {
     "cell_type": "code",
     "collapsed": false,
     "input": [
      "for k, v in database_dict.iteritems(): \n",
      "    print k, v.keys()\n",
      "    "
     ],
     "language": "python",
     "metadata": {},
     "outputs": [
      {
       "output_type": "stream",
       "stream": "stdout",
       "text": [
        "http://www.nytimes.com/2012/06/26/us/supreme-court-rejects-part-of-arizona-immigration-law.html ['keyword_dict', 'comments_df', 'image_part_url', 'title', 'abstract', 'pub_date']\n",
        "http://www.nytimes.com/2015/09/15/world/europe/europe-migrants-germany.html ['keyword_dict', 'comments_df', 'image_part_url', 'title', 'abstract', 'pub_date']\n",
        "http://www.nytimes.com/2015/09/11/us/politics/iran-nuclear-deal-senate.html ['keyword_dict', 'comments_df', 'image_part_url', 'title', 'abstract', 'pub_date']\n",
        "http://www.nytimes.com/2015/09/12/health/blood-pressure-study.html ['keyword_dict', 'comments_df', 'image_part_url', 'title', 'abstract', 'pub_date']\n",
        "http://www.nytimes.com/2015/06/15/opinion/workers-betrayed-by-visa-loopholes.html ['keyword_dict', 'comments_df', 'image_part_url', 'title', 'abstract', 'pub_date']\n"
       ]
      }
     ],
     "prompt_number": 11
    },
    {
     "cell_type": "code",
     "collapsed": false,
     "input": [
      "\n",
      "from wordcloud import WordCloud"
     ],
     "language": "python",
     "metadata": {},
     "outputs": [],
     "prompt_number": 13
    },
    {
     "cell_type": "code",
     "collapsed": false,
     "input": [
      "SOME_FIXED_SEED = 13\n",
      "np.random.seed(SOME_FIXED_SEED)\n",
      "for url_string in urls_list[-2:-1]: \n",
      "    print url_string\n",
      "    closest_trusted_comments = ProcessComments(url_string)\n",
      "    for key, val in closest_trusted_comments.iteritems(): \n",
      "        print 'cluster: ', key\n",
      "        comment_keywords = getKeywords(val)\n",
      "        keyword_string = ' '.join( [ '_'.join(keyword.split(' ')) for keyword in comment_keywords] )\n",
      "        print 'Keywords:', comment_keywords\n",
      "        print 'Keyword string: ', keyword_string\n",
      "# #         wordcloud = WordCloud().generate(val)\n",
      "# #         print wordcloud\n",
      "# #         plt.imshow(wordcloud)\n",
      "#         wordcloud = WordCloud().generate(keyword_string)\n",
      "#         print wordcloud\n",
      "#         plt.imshow(wordcloud)\n",
      "#         print val\n",
      "\n",
      "        keyword_wordfreq_list = [ (word, len(comment_keywords) - i ) for i,word in enumerate(comment_keywords)]\n",
      "        wordcloud = WordCloud().generate_from_frequencies(keyword_wordfreq_list)\n",
      "        wordcloud.background_color = 'white'\n",
      "        plt.imshow(wordcloud)\n",
      "        plt.axis('off')\n",
      "        file_name = 'plots/white_comments_' + str(key) + '.png'\n",
      "        plt.savefig(file_name)"
     ],
     "language": "python",
     "metadata": {},
     "outputs": [
      {
       "output_type": "stream",
       "stream": "stdout",
       "text": [
        "http://www.nytimes.com/2015/09/20/opinion/sunday/a-toxic-work-world.html\n",
        "cluster: "
       ]
      },
      {
       "output_type": "stream",
       "stream": "stdout",
       "text": [
        " 0\n",
        "Keywords:"
       ]
      },
      {
       "output_type": "stream",
       "stream": "stdout",
       "text": [
        " ['child care', 'bleak daily storage', 'pat buchanan', 'soviet idea', 'sorts', 'sixties', 'mobs', 'workplace', 'attacks', 'interview']\n",
        "Keyword string:  child_care bleak_daily_storage pat_buchanan soviet_idea sorts sixties mobs workplace attacks interview\n",
        "cluster: "
       ]
      },
      {
       "output_type": "stream",
       "stream": "stdout",
       "text": [
        " 1\n",
        "Keywords:"
       ]
      },
      {
       "output_type": "stream",
       "stream": "stdout",
       "text": [
        " ['life satisfaction', 'natural world', 'individualism', 'endpoint', 'happiness', 'capitalism', 'socialism', 'thing', 'wealth', 'path']\n",
        "Keyword string:  life_satisfaction natural_world individualism endpoint happiness capitalism socialism thing wealth path\n",
        "cluster: "
       ]
      },
      {
       "output_type": "stream",
       "stream": "stdout",
       "text": [
        " 2\n",
        "Keywords:"
       ]
      },
      {
       "output_type": "stream",
       "stream": "stdout",
       "text": [
        " ['business hire people', 'ear infection', 'elderly parent', 'home responsibilities', 'work', 'store owner', 'jobs', 'value', 'employee', 'absences']\n",
        "Keyword string:  business_hire_people ear_infection elderly_parent home_responsibilities work store_owner jobs value employee absences\n"
       ]
      },
      {
       "metadata": {},
       "output_type": "display_data",
       "png": "[encoded data removed]",
       "text": [
        "<matplotlib.figure.Figure at 0x10f9c3190>"
       ]
      }
     ],
     "prompt_number": 19
    },
    {
     "cell_type": "code",
     "collapsed": false,
     "input": [
      "# from pytagcloud import create_tag_image, make_tags\n",
      "# from pytagcloud.lang.counter import get_tag_counts\n",
      "\n",
      "# YOUR_TEXT = \"A tag cloud is a visual representation for text data, typically\\\n",
      "# used to depict keyword metadata on websites, or to visualize free form text.\"\n",
      "\n",
      "# tags = make_tags(get_tag_counts(YOUR_TEXT), maxsize=120)\n",
      "\n",
      "# create_tag_image(tags, 'cloud_large.png', size=(900, 600), fontname='Lobster')"
     ],
     "language": "python",
     "metadata": {},
     "outputs": [
      {
       "ename": "ImportError",
       "evalue": "No module named pygame",
       "output_type": "pyerr",
       "traceback": [
        "\u001b[0;31m---------------------------------------------------------------------------\u001b[0m\n\u001b[0;31mImportError\u001b[0m                               Traceback (most recent call last)",
        "\u001b[0;32m<ipython-input-34-ca8e7deb751e>\u001b[0m in \u001b[0;36m<module>\u001b[0;34m()\u001b[0m\n\u001b[0;32m----> 1\u001b[0;31m \u001b[0;32mfrom\u001b[0m \u001b[0mpytagcloud\u001b[0m \u001b[0;32mimport\u001b[0m \u001b[0mcreate_tag_image\u001b[0m\u001b[0;34m,\u001b[0m \u001b[0mmake_tags\u001b[0m\u001b[0;34m\u001b[0m\u001b[0m\n\u001b[0m\u001b[1;32m      2\u001b[0m \u001b[0;32mfrom\u001b[0m \u001b[0mpytagcloud\u001b[0m\u001b[0;34m.\u001b[0m\u001b[0mlang\u001b[0m\u001b[0;34m.\u001b[0m\u001b[0mcounter\u001b[0m \u001b[0;32mimport\u001b[0m \u001b[0mget_tag_counts\u001b[0m\u001b[0;34m\u001b[0m\u001b[0m\n\u001b[1;32m      3\u001b[0m \u001b[0;34m\u001b[0m\u001b[0m\n\u001b[1;32m      4\u001b[0m \u001b[0mYOUR_TEXT\u001b[0m \u001b[0;34m=\u001b[0m \u001b[0;34m\"A tag cloud is a visual representation for text data, typicallyused to depict keyword metadata on websites, or to visualize free form text.\"\u001b[0m\u001b[0;34m\u001b[0m\u001b[0m\n\u001b[1;32m      5\u001b[0m \u001b[0;34m\u001b[0m\u001b[0m\n",
        "\u001b[0;32m/Users/milindal/anaconda/lib/python2.7/site-packages/pytagcloud/__init__.py\u001b[0m in \u001b[0;36m<module>\u001b[0;34m()\u001b[0m\n\u001b[1;32m      2\u001b[0m \u001b[0;32mfrom\u001b[0m \u001b[0mcopy\u001b[0m \u001b[0;32mimport\u001b[0m \u001b[0mcopy\u001b[0m\u001b[0;34m\u001b[0m\u001b[0m\n\u001b[1;32m      3\u001b[0m \u001b[0;32mfrom\u001b[0m \u001b[0mmath\u001b[0m \u001b[0;32mimport\u001b[0m \u001b[0msin\u001b[0m\u001b[0;34m,\u001b[0m \u001b[0mcos\u001b[0m\u001b[0;34m,\u001b[0m \u001b[0mceil\u001b[0m\u001b[0;34m\u001b[0m\u001b[0m\n\u001b[0;32m----> 4\u001b[0;31m \u001b[0;32mfrom\u001b[0m \u001b[0mpygame\u001b[0m \u001b[0;32mimport\u001b[0m \u001b[0mtransform\u001b[0m\u001b[0;34m,\u001b[0m \u001b[0mfont\u001b[0m\u001b[0;34m,\u001b[0m \u001b[0mmask\u001b[0m\u001b[0;34m,\u001b[0m \u001b[0mSurface\u001b[0m\u001b[0;34m,\u001b[0m \u001b[0mRect\u001b[0m\u001b[0;34m,\u001b[0m \u001b[0mSRCALPHA\u001b[0m\u001b[0;34m,\u001b[0m \u001b[0mdraw\u001b[0m\u001b[0;34m\u001b[0m\u001b[0m\n\u001b[0m\u001b[1;32m      5\u001b[0m \u001b[0;32mfrom\u001b[0m \u001b[0mpygame\u001b[0m\u001b[0;34m.\u001b[0m\u001b[0msprite\u001b[0m \u001b[0;32mimport\u001b[0m \u001b[0mGroup\u001b[0m\u001b[0;34m,\u001b[0m \u001b[0mSprite\u001b[0m\u001b[0;34m,\u001b[0m \u001b[0mcollide_mask\u001b[0m\u001b[0;34m\u001b[0m\u001b[0m\n\u001b[1;32m      6\u001b[0m \u001b[0;32mfrom\u001b[0m \u001b[0mrandom\u001b[0m \u001b[0;32mimport\u001b[0m \u001b[0mrandint\u001b[0m\u001b[0;34m,\u001b[0m \u001b[0mchoice\u001b[0m\u001b[0;34m\u001b[0m\u001b[0m\n",
        "\u001b[0;31mImportError\u001b[0m: No module named pygame"
       ]
      }
     ],
     "prompt_number": 34
    },
    {
     "cell_type": "code",
     "collapsed": false,
     "input": [],
     "language": "python",
     "metadata": {},
     "outputs": []
    }
   ],
   "metadata": {}
  }
 ]
}