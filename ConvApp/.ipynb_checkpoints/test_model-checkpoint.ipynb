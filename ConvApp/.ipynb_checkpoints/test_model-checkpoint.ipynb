{
 "metadata": {
  "name": "",
  "signature": "sha256:3a845bd426259dc02ddf58eb6970969ea6719343e3362c52a8173a849489ceb7"
 },
 "nbformat": 3,
 "nbformat_minor": 0,
 "worksheets": [
  {
   "cells": [
    {
     "cell_type": "code",
     "collapsed": false,
     "input": [
      "# Should I import modules elsewhere?\n",
      "from urllib2 import Request, urlopen, URLError\n",
      "import numpy as np \n",
      "import json \n",
      "import pandas as pd \n",
      "import matplotlib.pyplot as plt \n",
      "import gensim as gs\n",
      "import nltk\n",
      "from sklearn.cluster import KMeans\n",
      "import pickle\n",
      "import string \n",
      "import re"
     ],
     "language": "python",
     "metadata": {},
     "outputs": [],
     "prompt_number": 1
    },
    {
     "cell_type": "code",
     "collapsed": false,
     "input": [
      "from comments_nlp import GetRepresentativeComments, StripHtml"
     ],
     "language": "python",
     "metadata": {},
     "outputs": [],
     "prompt_number": 6
    },
    {
     "cell_type": "code",
     "collapsed": false,
     "input": [
      "database_dict = pickle.load(open('../data/database_dict.p', 'rb'))"
     ],
     "language": "python",
     "metadata": {},
     "outputs": [],
     "prompt_number": 3
    },
    {
     "cell_type": "code",
     "collapsed": false,
     "input": [
      "urls_list = [line.rstrip('\\n') for line in open('../data/URLStest.txt').readlines() if len(line) > 5] \n",
      "urls_list "
     ],
     "language": "python",
     "metadata": {},
     "outputs": [
      {
       "metadata": {},
       "output_type": "pyout",
       "prompt_number": 4,
       "text": [
        "['http://www.nytimes.com/2015/09/11/us/politics/iran-nuclear-deal-senate.html',\n",
        " 'http://www.nytimes.com/2015/09/12/health/blood-pressure-study.html',\n",
        " 'http://www.nytimes.com/2012/06/26/us/supreme-court-rejects-part-of-arizona-immigration-law.html',\n",
        " 'http://www.nytimes.com/2015/06/15/opinion/workers-betrayed-by-visa-loopholes.html',\n",
        " 'http://www.nytimes.com/2015/09/15/world/europe/europe-migrants-germany.html']"
       ]
      }
     ],
     "prompt_number": 4
    },
    {
     "cell_type": "code",
     "collapsed": false,
     "input": [
      "for url_string in urls_list: \n",
      "    print len(database_dict[url_string]['comments_df'])\n",
      "    comments_rep = GetRepresentativeComments(database_dict[url_string]['comments_df'])\n",
      "    for k, v in comments_rep.iteritems(): \n",
      "        print k, StripHtml(v)"
     ],
     "language": "python",
     "metadata": {},
     "outputs": [
      {
       "output_type": "stream",
       "stream": "stdout",
       "text": [
        " 660\n",
        "<gensim.interfaces.TransformedCorpus object at 0x10c3ddd50>"
       ]
      },
      {
       "output_type": "stream",
       "stream": "stdout",
       "text": [
        "\n",
        "0"
       ]
      },
      {
       "output_type": "stream",
       "stream": "stdout",
       "text": [
        " However this partisan victory by Obama on the Iran nuclear deal is turned into an issue for electoral exploitation in the coming presidential elections, it represents a major triumph of diplomacy, constructive international effort for peace, and a bold move by Obama to so redefine US engagement in the Middle East as to allow the former to be at the right side of history, hitherto prevented by some of the privileged allies of the US in the region. \n",
        "1 A significant \"thank-you\" should also go to Dr, Ernest Moniz, the US Sec'y of Energy. A nuclear physicist, he was a crucial member of the US negotiating team, and an articulate andexceedingly well informed spokesman in support of the final deal. I saw him speak several times on C-SPAN, learned quite a bit about the agreement's implementation and safeguards and came away feeling confident that the US and the other participants had done the best they could to deter Iran.\n",
        "2 \u201cPresident Obama can claim that he found a way to move an extremely important, yet controversial, diplomatic agreement through the political process,\u201dOr he can claim that he made a disgracefully wrongheaded agreement with an implacably hostile foreign power responsible for thousands of American deaths, circumvented normal procedure and the Constitution of the United States to do so with the backing of 42% of the Senate, which legislators didn't even have the intestinal fortitude to have a vote on the subject so that when it all goes sour they can swear to their angry constituents who mostly oppose their actions that they never voted to enable it.\n",
        "387\n",
        "<gensim.interfaces.TransformedCorpus object at 0x10b1feed0>"
       ]
      },
      {
       "output_type": "stream",
       "stream": "stdout",
       "text": [
        "\n",
        "0"
       ]
      },
      {
       "output_type": "stream",
       "stream": "stdout",
       "text": [
        " I was on Lopressor for a couple of years, and what an evil drug that was.  It routinely pushed me into bradycardia (or having too slow a heartbeat) and it also had major sexual side effects.  It will be a cold day in hell before I take that one again.\n",
        "1 Look, I'm not a medical scientist, but I can read.  The article explicitly says, \"andomly assigned more than 9,300 men and women ages 50 and over who were at high risk of heart disease or had kidney disease to one of two systolic blood pressure targets.\"So the important results in this study apply to people who are at high risk of heart disease, or who already have kidney disease.  Why does the article assume without any supporting argument that the study also answers the question of \"what the optimal goal should be for patients with high blood pressure\"?\n",
        "2 Those who have expressed understandable concern over the side effects of blood pressure medication might be interested in this article about a study that found that a low carbohydrate diet lowered blood pressure without medication, and above and beyond the effects of the weight loss:http://www.webmd.com/diet/20100125/low-carb-diet-lowers-blood-pressure?p...Carbohydrates are known to increase blood pressure much as salt does and in that context it's interesting to note that in hunter-gatherers, who eat a much lower carb diet than the typical American (and typically no added salt either), blood pressure decreases rather than increases in old age (although of course there are other differences in the way they live that could contribute to the phenomenon, such as exercise and the absence of obesity).\n",
        "407\n",
        "<gensim.interfaces.TransformedCorpus object at 0x10d27acd0>"
       ]
      },
      {
       "output_type": "stream",
       "stream": "stdout",
       "text": [
        "\n",
        "0"
       ]
      },
      {
       "output_type": "stream",
       "stream": "stdout",
       "text": [
        " I suppose the states do have the right to appply their own standards to stop and verify immigrant status, but it does no make it any less odious.\n",
        "1       The role of Supreme Court Justice requires an individual who is capable of making impartial judgements based on the laws of the United States. Much like a referee of a sporting event the Justice should be able to make a decision based on the rules no matter what their personal bias may be. That Scalia chose to use his office as a public forum for making political commentary on an issue that was not before the court is highly inappropriate and demonstrates that he lacks the judicial temperament that is essential for a Justice of the Supreme Court. If he is unable to restrain himself from making such unsolicited political comments it would be advisable for him to resign his present position and seek employment at Fox News where such behavior is considered to be the acceptable norm. \n",
        "2 I don't know how you disprove that race is a factor in theory when stopping someone and then asking for their citizenship status, unless you disallow it as a primary reason for the stop, and then are required to ask everyone the same questions. Still, there is no way to disprove that race is not a factor in practice, although I'm certain there must be other behavioral factors that can be used to detect when a person is concealing something, such as citizenship status, and therefore warrants further investigating. But there is also no need to disprove that race *isn't* a factor; it must be proven that it is. Well-written laws and processes should prevent most reasons to question the motive. If Arizona and other states employ other methods to determine whether a person's citizenship is in question, then there should be no problem. Yes, a person's appearance is readily apparent to a law enforcement officer, but that doesn't necessarily mean it was used as a factor in determining whether that person's status should be investigated further. I suspect that many who oppose this law in general oppose any checks on immigration at all, especially for our neighbors to the south. This can usually be determined by the person's continued and inaccurate use of the term \"anti-immigration\" when referring to these laws or the people who support them. The proper term is \"anti-illegal immigration\", which is something to which everyone should be opposed, I would think.\n",
        "462\n",
        "<gensim.interfaces.TransformedCorpus object at 0x10b1fe590>"
       ]
      },
      {
       "output_type": "stream",
       "stream": "stdout",
       "text": [
        "\n",
        "0"
       ]
      },
      {
       "output_type": "stream",
       "stream": "stdout",
       "text": [
        " The loophole described in the referenced LA Times article is that the H1B's are supplied by contract employers, so that the company which is concerned about reputation can claim they do not hire H1B's without a skills need, or even at all.Increasingly, American companies outsource their risks, and their ethics, to give short shrift to their workers.  They dispense with even a probationary period for new hires, instructing at them at last stages of the hiring process to sign on with a contractor *even though they recruit and interview directly*.They collude as to what compensation would be for similar skills, not by meeting in back rooms filled with cigar smoke, but by sharing consultant firms who survey their entire industry.This affects workers all the way up to PhD level engineering staff.  Executive levels, on the other hand, negotiate contracts which provide even for comfortable exits should that be needed.When certain folks in our political discourse contend that there is a functioning labor market such that if we acquire training and skills, we can go down the street, or even the next state, to trade our skills and knowledge for our compensation, I laugh.  It is not a functioning free market for labor.  It's fixed by these practices, and by others like no-compete clauses and often  unwritten no-poach agreements between related firms.\n",
        "1 Come on, it is inmigration (this particular program), and tax, and trade policies, and laws supressing organized labor: A huge tide affecting American workers.\"Congress surely did not want to give companies a more efficient means of slashing payroll costs while pushing more people to the curb.\"I may be called cynical but I am certain somebody saw it coming and chuckled. \n",
        "2 The most important thing that Congress can do to address this problem would be to repeal Section 1706 of the Tax Reform Act of 1986. Senator Moynihan's \"gift to IBM\" has kept on giving for far too long. To continue to single out tech workers for exclusion from independent contractor status unless they are employed by a third-party contractor is unfair, as well as anti-innovation and anti-entrepeneurial. From Wikipedia: \"Introduced by Senator Daniel Patrick Moynihan, Section 1706 added a subsection (d) to Section 530 of the Revenue Act of 1978, which removed \"safe harbor\" exception for independent contractor classification (which at the time avoided payroll taxes) for workers such as engineers, designers, drafters, computer professionals, and \"similarly skilled\" workers.If the IRS determines that a third-party intermediary firm's worker previously treated as self-employed should have been classified as an employee, the IRS assesses substantial back taxes, penalties and interest on that third-party intermediary company, though not directly against the worker or the end client.[10] It does not apply to individuals directly contracted to clients.\"\"Safe harbor\" is a term for a situation in which someone is assumed to have met a certain requirement by meeting a broader requirement; e.g., the safe harbor for avoiding IRS underpayment of tax penalties is paying taxes of the smaller of the amount owed for the previous tax year or 90% of the amount owed for the current year.\n",
        "220\n",
        "<gensim.interfaces.TransformedCorpus object at 0x10d441090>"
       ]
      },
      {
       "output_type": "stream",
       "stream": "stdout",
       "text": [
        "\n",
        "0"
       ]
      },
      {
       "output_type": "stream",
       "stream": "stdout",
       "text": [
        " Soooooo... Once again, Europe proves itself every bit as xenophobic as the US.  I wonder if they will draw as much ire from American lefties as does the American right, in the eternal debate over how open we should be to new-comers.  In fact, most countries have the same major concerns as those put forth by these nations. The argument that there should not be any restrictions is what is unique about the liberal theory.\n",
        "1 Total denial.What do they think this refugees will do ? The only effect we will get is a backlog of desperate people. This is unstoppable, these people have no way back.I have read about their condition in turkey, no access to medical care, no schools, no legal jurisdiction, they get exploited, humiliated, up to now they survived by their savings, they are running out of food, even water. And these are well eduacated people, once wealthy, they fell into an abyss and are now treated like stray dogs. And syrians were also very liberal, 10% of the syrians are christians, syrians are more liberal than some pitiful europeans. In the ME they had been the nation, that could have become a role model for a free country.Germany has to prepare for huge camps, guarded by the army, US-soldiers in germany must help. We have to leave the comfort zone or we will have thousands of people dying in the middle of europe.\n",
        "2 It is well known and even reported here in the NY Times that Angela Merkel makes decisions only after long deliberations and after reading the poles.   5 years ago she admitted that multiculturalism was  a failure and only 2 months ago was ridiculed for giving a speech where she supported strict asylum rules and stated the obvious - that Germany could not manage to take in all the war refugees from Syria. She was correct then, but what has caused the recent about-face?  She must have misread the tea leaves?   She has now temporarily recalibratd, but it is too little too late.  It is mind-boggling that she has not considered national security implications and implications of  law and order.  The EU needs a better leader - a leader who has a better grasp of the needs of the EU and who can mitigate the risks that the EU clearly faces.    \n"
       ]
      }
     ],
     "prompt_number": 8
    },
    {
     "cell_type": "code",
     "collapsed": false,
     "input": [
      "for url_string in urls_list: \n",
      "    print database_dict[url_string]['comments_df']['senti_pos']"
     ],
     "language": "python",
     "metadata": {},
     "outputs": [
      {
       "output_type": "stream",
       "stream": "stdout",
       "text": [
        "Index([u'approveDate', u'commentBody', u'commentID', u'commentSequence', u'commentTitle', u'commentType', u'createDate', u'depth', u'editorsSelection', u'parentID', u'parentUserDisplayName', u'permID', u'picURL', u'recommendations', u'recommendedFlag', u'replies', u'replyCount', u'reportAbuseFlag', u'sharing', u'status', u'timespeople', u'trusted', u'updateDate', u'userDisplayName', u'userID', u'userLocation', u'userTitle', u'userURL'], dtype='object')\n",
        "Index([u'approveDate', u'commentBody', u'commentID', u'commentSequence', u'commentTitle', u'commentType', u'createDate', u'depth', u'editorsSelection', u'parentID', u'parentUserDisplayName', u'permID', u'picURL', u'recommendations', u'recommendedFlag', u'replies', u'replyCount', u'reportAbuseFlag', u'sharing', u'status', u'timespeople', u'trusted', u'updateDate', u'userDisplayName', u'userID', u'userLocation', u'userTitle', u'userURL'], dtype='object')\n",
        "Index([u'approveDate', u'commentBody', u'commentID', u'commentSequence', u'commentTitle', u'commentType', u'createDate', u'depth', u'editorsSelection', u'parentID', u'parentUserDisplayName', u'permID', u'picURL', u'recommendations', u'recommendedFlag', u'replies', u'replyCount', u'reportAbuseFlag', u'sharing', u'status', u'timespeople', u'trusted', u'updateDate', u'userDisplayName', u'userID', u'userLocation', u'userTitle', u'userURL'], dtype='object')\n",
        "Index([u'approveDate', u'commentBody', u'commentID', u'commentSequence', u'commentTitle', u'commentType', u'createDate', u'depth', u'editorsSelection', u'parentID', u'parentUserDisplayName', u'permID', u'picURL', u'recommendations', u'recommendedFlag', u'replies', u'replyCount', u'reportAbuseFlag', u'sharing', u'status', u'timespeople', u'trusted', u'updateDate', u'userDisplayName', u'userID', u'userLocation', u'userTitle', u'userURL'], dtype='object')\n",
        "Index([u'approveDate', u'commentBody', u'commentID', u'commentSequence', u'commentTitle', u'commentType', u'createDate', u'depth', u'editorsSelection', u'parentID', u'parentUserDisplayName', u'permID', u'picURL', u'recommendations', u'recommendedFlag', u'replies', u'replyCount', u'reportAbuseFlag', u'sharing', u'status', u'timespeople', u'trusted', u'updateDate', u'userDisplayName', u'userID', u'userLocation', u'userTitle', u'userURL'], dtype='object')\n"
       ]
      }
     ],
     "prompt_number": 12
    },
    {
     "cell_type": "code",
     "collapsed": false,
     "input": [],
     "language": "python",
     "metadata": {},
     "outputs": []
    }
   ],
   "metadata": {}
  }
 ]
}